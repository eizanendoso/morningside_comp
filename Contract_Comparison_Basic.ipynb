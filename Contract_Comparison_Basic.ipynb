{
 "cells": [
  {
   "cell_type": "code",
   "execution_count": null,
   "metadata": {},
   "outputs": [],
   "source": [
    "# specific to extracting information from word documents\n",
    "import os\n",
    "import zipfile\n",
    "# other tools useful in extracting the information from our document\n",
    "import re\n",
    "# to pretty print our xml:\n",
    "import xml.dom.minidom\n",
    "\n",
    "from docx import *\n",
    "import re\n",
    "import json\n",
    "\n",
    "import unicodedata\n",
    "\n",
    "import spacy"
   ]
  },
  {
   "cell_type": "code",
   "execution_count": null,
   "metadata": {},
   "outputs": [],
   "source": [
    "nlp = spacy.load(\"en_trf_distilbertbaseuncased_lg\")"
   ]
  },
  {
   "cell_type": "code",
   "execution_count": null,
   "metadata": {
    "scrolled": true
   },
   "outputs": [],
   "source": [
    "from spacy_transformers import TransformersLanguage, TransformersWordPiecer, TransformersTok2Vec"
   ]
  },
  {
   "cell_type": "code",
   "execution_count": null,
   "metadata": {},
   "outputs": [],
   "source": [
    "name = \"distilbert-base-uncased\"\n",
    "nlp = TransformersLanguage(trf_name=name, meta={\"lang\": \"en\"})\n",
    "nlp.add_pipe(nlp.create_pipe(\"sentencizer\"))\n",
    "nlp.add_pipe(TransformersWordPiecer.from_pretrained(nlp.vocab, name))\n",
    "nlp.add_pipe(TransformersTok2Vec.from_pretrained(nlp.vocab, name))\n",
    "print(nlp.pipe_names)  # ['sentencizer', 'trf_wordpiecer', 'trf_tok2vec']"
   ]
  },
  {
   "cell_type": "code",
   "execution_count": null,
   "metadata": {},
   "outputs": [],
   "source": [
    "# courtesy of http://legalipsum.com/\n",
    "filename = 'clause_tst_database2.csv'"
   ]
  },
  {
   "cell_type": "code",
   "execution_count": null,
   "metadata": {},
   "outputs": [],
   "source": [
    "import csv"
   ]
  },
  {
   "cell_type": "code",
   "execution_count": null,
   "metadata": {},
   "outputs": [],
   "source": [
    "# Check similarity - DONE\n",
    "# Find strongest match - DONE\n",
    "# Identify which does not have a strong match - DONE\n",
    "# Build MS Word document, \n",
    "# first column with gen, and then 3 columns for each of the contracts, with remarks in 5th column - DONE\n",
    "# Landscape mode - DONE"
   ]
  },
  {
   "cell_type": "code",
   "execution_count": null,
   "metadata": {
    "scrolled": true
   },
   "outputs": [],
   "source": [
    "clause_list = []\n",
    "with open(filename) as csv_file:\n",
    "    csv_reader = csv.DictReader(csv_file, delimiter=',')\n",
    "    count = 0\n",
    "    for row in csv_reader:\n",
    "        count += 1\n",
    "        print(count)\n",
    "#         origin, cl_no, header, subheader, text, date = [ row[i] for i in row ]\n",
    "        doc = nlp(row['text'])\n",
    "#         print([ row[i] for i in row ] + [doc.vector])\n",
    "#         print(doc.vector)\n",
    "        clause_list.append([ row[i] for i in row ] + [doc.vector] )\n",
    "        "
   ]
  },
  {
   "cell_type": "code",
   "execution_count": null,
   "metadata": {},
   "outputs": [],
   "source": [
    "import pickle"
   ]
  },
  {
   "cell_type": "code",
   "execution_count": null,
   "metadata": {
    "scrolled": true
   },
   "outputs": [],
   "source": [
    "with open('clause_database_test2_processed.pkl', 'wb') as f:\n",
    "    pickle.dump(clause_list, f)"
   ]
  },
  {
   "cell_type": "code",
   "execution_count": null,
   "metadata": {},
   "outputs": [],
   "source": [
    "with open('clause_database_test2_processed.pkl', 'rb') as f:\n",
    "    clause_list = pickle.load(f)"
   ]
  },
  {
   "cell_type": "code",
   "execution_count": null,
   "metadata": {},
   "outputs": [],
   "source": [
    "clause_list[0]"
   ]
  },
  {
   "cell_type": "code",
   "execution_count": null,
   "metadata": {},
   "outputs": [],
   "source": [
    "base = []\n",
    "a = []\n",
    "b = []\n",
    "c = []\n",
    "for clause in clause_list:\n",
    "    if clause[0] == 'base':\n",
    "        base.append(clause)\n",
    "    elif clause[0] == 'a':\n",
    "        a.append(clause)\n",
    "    elif clause[0] == 'b':\n",
    "        b.append(clause)\n",
    "    elif clause[0] == 'c':\n",
    "        c.append(clause)"
   ]
  },
  {
   "cell_type": "code",
   "execution_count": null,
   "metadata": {},
   "outputs": [],
   "source": [
    "base_vectors = [ row[6] for row in base ]\n",
    "a_vectors = [ row[6] for row in a ]\n",
    "b_vectors = [ row[6] for row in b ]\n",
    "c_vectors = [ row[6] for row in c ]"
   ]
  },
  {
   "cell_type": "code",
   "execution_count": null,
   "metadata": {},
   "outputs": [],
   "source": [
    "from scipy.spatial import distance"
   ]
  },
  {
   "cell_type": "code",
   "execution_count": null,
   "metadata": {},
   "outputs": [],
   "source": [
    "a[4][4]"
   ]
  },
  {
   "cell_type": "code",
   "execution_count": null,
   "metadata": {},
   "outputs": [],
   "source": [
    "b[4][4]"
   ]
  },
  {
   "cell_type": "code",
   "execution_count": null,
   "metadata": {},
   "outputs": [],
   "source": [
    "c[5][4]"
   ]
  },
  {
   "cell_type": "code",
   "execution_count": null,
   "metadata": {},
   "outputs": [],
   "source": [
    "base[2][4]"
   ]
  },
  {
   "cell_type": "code",
   "execution_count": null,
   "metadata": {},
   "outputs": [],
   "source": [
    "test = distance.cosine(base[2][6], a[4][6])"
   ]
  },
  {
   "cell_type": "code",
   "execution_count": null,
   "metadata": {},
   "outputs": [],
   "source": [
    "1- test"
   ]
  },
  {
   "cell_type": "code",
   "execution_count": null,
   "metadata": {
    "scrolled": true
   },
   "outputs": [],
   "source": [
    "comparison_list = []\n",
    "top_n = 5\n",
    "for n, v1 in enumerate(base_vectors):\n",
    "#     if n > 0:\n",
    "        results_a = []\n",
    "        for v2 in a_vectors:\n",
    "            result = 1- distance.cosine(v1, v2)\n",
    "            results_a.append(result)\n",
    "        highest = max(results_a)\n",
    "#         print(highest)\n",
    "#         print(n)\n",
    "#         print(\"THIS IS THE COMPARATOR*****\" + gtcs[n][4] + \"\\n\")\n",
    "#         print(\"*****{}*****\".format(cwb1mil[highest_index][4]))\n",
    "#         h_index_a = [ j, i for i,j in enumerate(results_a) if j == highest ][0]\n",
    "        top3_a = sorted( [(x,i) for (i,x) in enumerate(results_a)], reverse=True )[:top_n]\n",
    "#         print(top3_a)\n",
    "        h_index_a = top3_a[0]\n",
    "#         print(h_index_a)\n",
    "        \n",
    "        results_b = []\n",
    "        for v2 in b_vectors:\n",
    "            result = 1- distance.cosine(v1, v2)\n",
    "            results_b.append(result)\n",
    "        highest = max(results_b)\n",
    "#         h_index_b = [ j, i for i,j in enumerate(results_b) if j == highest ][0]\n",
    "        top3_b = sorted( [(x,i) for (i,x) in enumerate(results_b)], reverse=True )[:top_n]\n",
    "        h_index_b = top3_b[0]\n",
    "    \n",
    "        results_c = []\n",
    "        for v2 in c_vectors:\n",
    "            result = 1- distance.cosine(v1, v2)\n",
    "            results_c.append(result)\n",
    "        highest = max(results_c)\n",
    "#         h_index_c = [ j, i for i,j in enumerate(results_c) if j == highest ][0]\n",
    "        top3_c = sorted( [(x,i) for (i,x) in enumerate(results_c)], reverse=True )[:top_n]\n",
    "        h_index_c = top3_c[0]\n",
    "        \n",
    "        remarks = ''\n",
    "        \n",
    "        threshold = 0.98\n",
    "        \n",
    "        if h_index_a[0] < threshold:\n",
    "#             remarks += 'a below {}\\n'.format(threshold)\n",
    "            other_similar_clauses_a = [ cl[1] for cl in top3_a[1:] ]\n",
    "            remarks += '\\nContract A - Other similar clauses: ' + ', '.join([ a[i][1] for i in other_similar_clauses_a ]) + '\\n'\n",
    "        if h_index_b[0] < threshold:\n",
    "#             remarks += 'b below {}\\n'.format(threshold)\n",
    "            other_similar_clauses_b = [ cl[1] for cl in top3_b[1:] ]\n",
    "            remarks += '\\nContract B - Other similar clauses: ' + ', '.join([ b[i][1] for i in other_similar_clauses_b ]) + '\\n'\n",
    "        if h_index_c[0] < threshold:\n",
    "#             remarks += 'c below {}\\n'.format(threshold)\n",
    "            other_similar_clauses_c = [ cl[1] for cl in top3_c[1:] ]\n",
    "            remarks += '\\nContract C - Other similar clauses: ' + ', '.join([ c[i][1] for i in other_similar_clauses_c ]) + '\\n'\n",
    "        \n",
    "        comparison_list.append((n, h_index_a, h_index_b, h_index_c, remarks, top3_a, top3_b, top3_c))"
   ]
  },
  {
   "cell_type": "code",
   "execution_count": null,
   "metadata": {},
   "outputs": [],
   "source": [
    "from docx import Document\n",
    "from docx.enum.section import WD_ORIENT\n",
    "from docx.enum.section import WD_SECTION"
   ]
  },
  {
   "cell_type": "code",
   "execution_count": null,
   "metadata": {},
   "outputs": [],
   "source": [
    "def change_orientation():\n",
    "    current_section = document.sections[-1]\n",
    "    new_width, new_height = current_section.page_height, current_section.page_width\n",
    "#     new_section = document.add_section(WD_SECTION.NEW_PAGE)\n",
    "    current_section.orientation = WD_ORIENT.LANDSCAPE\n",
    "    current_section.page_width = new_width\n",
    "    current_section.page_height = new_height\n",
    "\n",
    "    return current_section"
   ]
  },
  {
   "cell_type": "code",
   "execution_count": null,
   "metadata": {},
   "outputs": [],
   "source": [
    "document = Document()\n",
    "change_orientation()\n",
    "document.add_heading('DOCUMENT COMPARISON')\n",
    "table = document.add_table(rows=1, cols=6)\n",
    "table.style = 'LightShading-Accent1'\n",
    "\n",
    "# populate header row --------\n",
    "heading_cells = table.rows[0].cells\n",
    "heading_cells[0].text = 'No'\n",
    "heading_cells[1].text = 'Base Clause'\n",
    "heading_cells[2].text = 'Contract A'\n",
    "heading_cells[3].text = 'Contract B'\n",
    "heading_cells[4].text = 'Contract C'\n",
    "heading_cells[5].text = 'Remarks'\n",
    "\n",
    "# add a data row for each item\n",
    "for entry in comparison_list:\n",
    "    \n",
    "    cells = table.add_row().cells\n",
    "    no, a_idx, b_idx, c_idx, remarks, _, _, _ = [ d for d in entry ]\n",
    "    cells[0].text = str(no)\n",
    "    cells[1].text = base[no][4]\n",
    "    cells[2].text = a[cwb1mil_idx[1]][4]\n",
    "    cells[3].text = b[cwa1mil_idx[1]][4]\n",
    "    cells[4].text = c[engrsvcs_idx[1]][4]\n",
    "    cells[5].text = str(remarks)\n",
    "\n",
    "document.save('comparison_test.docx')"
   ]
  },
  {
   "cell_type": "code",
   "execution_count": null,
   "metadata": {},
   "outputs": [],
   "source": []
  }
 ],
 "metadata": {
  "kernelspec": {
   "display_name": "Python 3",
   "language": "python",
   "name": "python3"
  },
  "language_info": {
   "codemirror_mode": {
    "name": "ipython",
    "version": 3
   },
   "file_extension": ".py",
   "mimetype": "text/x-python",
   "name": "python",
   "nbconvert_exporter": "python",
   "pygments_lexer": "ipython3",
   "version": "3.7.3"
  }
 },
 "nbformat": 4,
 "nbformat_minor": 2
}
